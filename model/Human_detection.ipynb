{
  "nbformat": 4,
  "nbformat_minor": 0,
  "metadata": {
    "colab": {
      "provenance": []
    },
    "kernelspec": {
      "name": "python3",
      "display_name": "Python 3"
    },
    "language_info": {
      "name": "python"
    }
  },
  "cells": [
    {
      "cell_type": "code",
      "execution_count": 3,
      "metadata": {
        "id": "sROaPId4NxK7"
      },
      "outputs": [],
      "source": [
        "import os\n",
        "import cv2\n",
        "import random\n",
        "import numpy as np\n",
        "import zipfile\n",
        "import os\n",
        "import pandas as pd\n",
        "from keras.applications import MobileNetV2\n",
        "from tensorflow.keras.optimizers import Adam\n",
        "from tensorflow.keras.models import Sequential\n",
        "from tensorflow.keras.utils import to_categorical\n",
        "from sklearn.model_selection import train_test_split\n",
        "from tensorflow.keras.layers import Dense, Flatten, BatchNormalization, Dropout\n",
        "from tensorflow.keras.preprocessing.image import ImageDataGenerator, img_to_array, array_to_img"
      ]
    },
    {
      "cell_type": "code",
      "source": [
        "zip_path = \"./dataset.zip\"  # Adjust if your zip name is different\n",
        "extract_path = \"dataset\"     # Where to unzip\n",
        "\n",
        "with zipfile.ZipFile(zip_path, 'r') as zip_ref:\n",
        "    zip_ref.extractall(extract_path)"
      ],
      "metadata": {
        "id": "u8jd6ojjOCrz"
      },
      "execution_count": 8,
      "outputs": []
    },
    {
      "cell_type": "code",
      "source": [
        "main_dir = \"./dataset/human_detection\""
      ],
      "metadata": {
        "id": "CK0t6AkXQtzE"
      },
      "execution_count": 9,
      "outputs": []
    },
    {
      "cell_type": "code",
      "source": [
        "# Load and preprocess your dataset\n",
        "def read_and_preprocess_image(image_path):\n",
        "    image = cv2.imread(image_path, 1)\n",
        "    image = cv2.resize(image, (224, 224))  # Resize to the input size of MobileNetV2\n",
        "    return image"
      ],
      "metadata": {
        "id": "o1YwHcOYQzsy"
      },
      "execution_count": 10,
      "outputs": []
    },
    {
      "cell_type": "code",
      "source": [
        "data = []\n",
        "labels = []\n",
        "\n",
        "for class_name in os.listdir(main_dir):\n",
        "    class_dir = os.path.join(main_dir, class_name)\n",
        "    for image_file in os.listdir(class_dir):\n",
        "        image_path = os.path.join(class_dir, image_file)\n",
        "        image = read_and_preprocess_image(image_path)\n",
        "        data.append(image)\n",
        "        labels.append(int(class_name))  # Assuming class names are 0 and 1\n",
        "\n",
        "# Convert labels to one-hot encoding\n",
        "labels = to_categorical(labels, num_classes=2)"
      ],
      "metadata": {
        "id": "ZzpkxEkaQ3CF"
      },
      "execution_count": 11,
      "outputs": []
    },
    {
      "cell_type": "code",
      "source": [
        "len(data[0])\n"
      ],
      "metadata": {
        "colab": {
          "base_uri": "https://localhost:8080/"
        },
        "id": "d-cmM5Z3Q-Ho",
        "outputId": "222f1847-b52c-43e6-9907-9452c942e585"
      },
      "execution_count": 12,
      "outputs": [
        {
          "output_type": "execute_result",
          "data": {
            "text/plain": [
              "224"
            ]
          },
          "metadata": {},
          "execution_count": 12
        }
      ]
    },
    {
      "cell_type": "code",
      "source": [
        "X_train, X_test, y_train, y_test = train_test_split(data, labels, test_size=0.2, random_state=42)\n"
      ],
      "metadata": {
        "id": "95T5Op49RAVh"
      },
      "execution_count": 13,
      "outputs": []
    },
    {
      "cell_type": "code",
      "source": [
        "print(len(X_train))\n",
        "print(len(X_test))\n",
        "print(len(y_train))\n",
        "print(len(y_test))"
      ],
      "metadata": {
        "colab": {
          "base_uri": "https://localhost:8080/"
        },
        "id": "TwO82nhlRB2n",
        "outputId": "281fcbbc-6e4d-4c1c-c0c6-052af65e5516"
      },
      "execution_count": 14,
      "outputs": [
        {
          "output_type": "stream",
          "name": "stdout",
          "text": [
            "736\n",
            "185\n",
            "736\n",
            "185\n"
          ]
        }
      ]
    },
    {
      "cell_type": "code",
      "source": [
        "# Data augmentation\n",
        "datagen = ImageDataGenerator(\n",
        "    rotation_range=20,\n",
        "    width_shift_range=0.2,\n",
        "    height_shift_range=0.2,\n",
        "    shear_range=0.2,\n",
        "    zoom_range=0.2,\n",
        "    horizontal_flip=True,\n",
        "    fill_mode='nearest'\n",
        ")"
      ],
      "metadata": {
        "id": "VuJIbVu2RDfP"
      },
      "execution_count": 15,
      "outputs": []
    },
    {
      "cell_type": "code",
      "source": [
        "# Model architecture\n",
        "model = Sequential()\n",
        "base_model = MobileNetV2(input_shape=(224, 224, 3))\n",
        "model.add(base_model)\n",
        "model.add(Flatten())\n",
        "model.add(BatchNormalization())\n",
        "model.add(Dense(128, activation='relu'))\n",
        "model.add(Dropout(0.5))\n",
        "model.add(Dense(2, activation='softmax'))"
      ],
      "metadata": {
        "colab": {
          "base_uri": "https://localhost:8080/"
        },
        "id": "cZV9zf5BRFAn",
        "outputId": "d7c245d2-6265-4673-f7a6-291f30092d2f"
      },
      "execution_count": 16,
      "outputs": [
        {
          "output_type": "stream",
          "name": "stdout",
          "text": [
            "Downloading data from https://storage.googleapis.com/tensorflow/keras-applications/mobilenet_v2/mobilenet_v2_weights_tf_dim_ordering_tf_kernels_1.0_224.h5\n",
            "\u001b[1m14536120/14536120\u001b[0m \u001b[32m━━━━━━━━━━━━━━━━━━━━\u001b[0m\u001b[37m\u001b[0m \u001b[1m0s\u001b[0m 0us/step\n"
          ]
        }
      ]
    },
    {
      "cell_type": "code",
      "source": [
        "base_model = MobileNetV2(input_shape=(224, 224, 3), include_top=False, weights='imagenet')  # Exclude top layers\n",
        "base_model.trainable = False"
      ],
      "metadata": {
        "colab": {
          "base_uri": "https://localhost:8080/"
        },
        "id": "y_0O__zhbG-S",
        "outputId": "e6aa9e21-f5ab-41a2-dd2a-993739ad7d42"
      },
      "execution_count": 42,
      "outputs": [
        {
          "output_type": "stream",
          "name": "stdout",
          "text": [
            "Downloading data from https://storage.googleapis.com/tensorflow/keras-applications/mobilenet_v2/mobilenet_v2_weights_tf_dim_ordering_tf_kernels_1.0_224_no_top.h5\n",
            "\u001b[1m9406464/9406464\u001b[0m \u001b[32m━━━━━━━━━━━━━━━━━━━━\u001b[0m\u001b[37m\u001b[0m \u001b[1m0s\u001b[0m 0us/step\n"
          ]
        }
      ]
    },
    {
      "cell_type": "code",
      "source": [
        "\n",
        "model = Sequential([\n",
        "    base_model,\n",
        "    Flatten(),\n",
        "    BatchNormalization(),\n",
        "    Dense(128, activation='relu'),\n",
        "    Dropout(0.5),\n",
        "    Dense(2, activation='softmax')  # 2 output classes: Human, No Human\n",
        "])\n",
        "\n",
        "model.compile(optimizer='adam', loss='categorical_crossentropy', metrics=['accuracy'])"
      ],
      "metadata": {
        "id": "aPKNiBOKRGwL"
      },
      "execution_count": 43,
      "outputs": []
    },
    {
      "cell_type": "code",
      "source": [
        "batch_size = 32\n",
        "epochs = 10\n",
        "history = model.fit(\n",
        "    datagen.flow(np.array(X_train), y_train, batch_size=batch_size),\n",
        "    steps_per_epoch=len(X_train) // batch_size,  # Integer division for steps per epoch\n",
        "    epochs=epochs,\n",
        "    validation_data=(np.array(X_test), y_test)\n",
        ")"
      ],
      "metadata": {
        "colab": {
          "base_uri": "https://localhost:8080/"
        },
        "id": "xFNgxSfrRLgK",
        "outputId": "2e8933fd-ea26-4fc5-cda8-cfc5358a4e63"
      },
      "execution_count": 44,
      "outputs": [
        {
          "output_type": "stream",
          "name": "stdout",
          "text": [
            "Epoch 1/10\n",
            "\u001b[1m23/23\u001b[0m \u001b[32m━━━━━━━━━━━━━━━━━━━━\u001b[0m\u001b[37m\u001b[0m \u001b[1m58s\u001b[0m 2s/step - accuracy: 0.6589 - loss: 3.1721 - val_accuracy: 0.7081 - val_loss: 7.7538\n",
            "Epoch 2/10\n",
            "\u001b[1m23/23\u001b[0m \u001b[32m━━━━━━━━━━━━━━━━━━━━\u001b[0m\u001b[37m\u001b[0m \u001b[1m46s\u001b[0m 2s/step - accuracy: 0.7113 - loss: 4.2982 - val_accuracy: 0.7135 - val_loss: 5.6144\n",
            "Epoch 3/10\n",
            "\u001b[1m23/23\u001b[0m \u001b[32m━━━━━━━━━━━━━━━━━━━━\u001b[0m\u001b[37m\u001b[0m \u001b[1m43s\u001b[0m 2s/step - accuracy: 0.7328 - loss: 3.2284 - val_accuracy: 0.7405 - val_loss: 3.6404\n",
            "Epoch 4/10\n",
            "\u001b[1m23/23\u001b[0m \u001b[32m━━━━━━━━━━━━━━━━━━━━\u001b[0m\u001b[37m\u001b[0m \u001b[1m48s\u001b[0m 2s/step - accuracy: 0.7294 - loss: 1.7286 - val_accuracy: 0.7405 - val_loss: 1.8115\n",
            "Epoch 5/10\n",
            "\u001b[1m23/23\u001b[0m \u001b[32m━━━━━━━━━━━━━━━━━━━━\u001b[0m\u001b[37m\u001b[0m \u001b[1m48s\u001b[0m 2s/step - accuracy: 0.7579 - loss: 1.0385 - val_accuracy: 0.7568 - val_loss: 1.0623\n",
            "Epoch 6/10\n",
            "\u001b[1m23/23\u001b[0m \u001b[32m━━━━━━━━━━━━━━━━━━━━\u001b[0m\u001b[37m\u001b[0m \u001b[1m47s\u001b[0m 2s/step - accuracy: 0.7695 - loss: 0.9541 - val_accuracy: 0.7514 - val_loss: 0.9045\n",
            "Epoch 7/10\n",
            "\u001b[1m23/23\u001b[0m \u001b[32m━━━━━━━━━━━━━━━━━━━━\u001b[0m\u001b[37m\u001b[0m \u001b[1m44s\u001b[0m 2s/step - accuracy: 0.7710 - loss: 0.7897 - val_accuracy: 0.7784 - val_loss: 0.6085\n",
            "Epoch 8/10\n",
            "\u001b[1m23/23\u001b[0m \u001b[32m━━━━━━━━━━━━━━━━━━━━\u001b[0m\u001b[37m\u001b[0m \u001b[1m85s\u001b[0m 2s/step - accuracy: 0.7666 - loss: 0.8493 - val_accuracy: 0.7784 - val_loss: 0.7236\n",
            "Epoch 9/10\n",
            "\u001b[1m23/23\u001b[0m \u001b[32m━━━━━━━━━━━━━━━━━━━━\u001b[0m\u001b[37m\u001b[0m \u001b[1m47s\u001b[0m 2s/step - accuracy: 0.7592 - loss: 0.6478 - val_accuracy: 0.7622 - val_loss: 0.6387\n",
            "Epoch 10/10\n",
            "\u001b[1m23/23\u001b[0m \u001b[32m━━━━━━━━━━━━━━━━━━━━\u001b[0m\u001b[37m\u001b[0m \u001b[1m48s\u001b[0m 2s/step - accuracy: 0.7704 - loss: 0.5901 - val_accuracy: 0.7568 - val_loss: 0.6318\n"
          ]
        }
      ]
    },
    {
      "cell_type": "code",
      "source": [
        "# Predict on the test set\n",
        "predictions = model.predict(np.array(X_test))"
      ],
      "metadata": {
        "colab": {
          "base_uri": "https://localhost:8080/"
        },
        "id": "0ToEwgtxdrZL",
        "outputId": "523018f5-657c-442a-9849-9e986bcdd1c7"
      },
      "execution_count": 45,
      "outputs": [
        {
          "output_type": "stream",
          "name": "stdout",
          "text": [
            "\u001b[1m6/6\u001b[0m \u001b[32m━━━━━━━━━━━━━━━━━━━━\u001b[0m\u001b[37m\u001b[0m \u001b[1m10s\u001b[0m 2s/step\n"
          ]
        }
      ]
    },
    {
      "cell_type": "code",
      "source": [
        "predicted_classes = np.argmax(predictions, axis=1)"
      ],
      "metadata": {
        "id": "FcQyLAHsd1_j"
      },
      "execution_count": 46,
      "outputs": []
    },
    {
      "cell_type": "code",
      "source": [
        "y_test_classes = np.argmax(y_test, axis=1)"
      ],
      "metadata": {
        "id": "x24BSFGwd3x1"
      },
      "execution_count": 47,
      "outputs": []
    },
    {
      "cell_type": "code",
      "source": [
        "\n",
        "# Compare predicted classes with actual classes\n",
        "correct_predictions = np.sum(predicted_classes == y_test_classes)\n",
        "total_predictions = len(y_test_classes)\n"
      ],
      "metadata": {
        "id": "OBd64g35d6CT"
      },
      "execution_count": 48,
      "outputs": []
    },
    {
      "cell_type": "code",
      "source": [
        "print(f\"Correct Predictions: {correct_predictions}\")\n",
        "print(f\"Total Predictions: {total_predictions}\")\n",
        "print(f\"Accuracy on test set: {correct_predictions / total_predictions * 100:.2f}%\")"
      ],
      "metadata": {
        "colab": {
          "base_uri": "https://localhost:8080/"
        },
        "id": "w7QyI8D3d6og",
        "outputId": "0b470be9-de16-4249-ea32-fe3763ce9caf"
      },
      "execution_count": 49,
      "outputs": [
        {
          "output_type": "stream",
          "name": "stdout",
          "text": [
            "Correct Predictions: 140\n",
            "Total Predictions: 185\n",
            "Accuracy on test set: 75.68%\n"
          ]
        }
      ]
    },
    {
      "cell_type": "code",
      "source": [
        "import requests\n",
        "from io import BytesIO\n",
        "from PIL import Image"
      ],
      "metadata": {
        "id": "uDiL6lEfZQ-2"
      },
      "execution_count": 50,
      "outputs": []
    },
    {
      "cell_type": "code",
      "source": [
        "from PIL import Image\n",
        "\n",
        "image_path = \"./1.jpg\"\n",
        "\n",
        "img = Image.open(image_path)\n",
        "\n",
        "img.show()\n"
      ],
      "metadata": {
        "id": "ZGcY-y5zZWci"
      },
      "execution_count": 58,
      "outputs": []
    },
    {
      "cell_type": "code",
      "source": [
        "from tensorflow.keras.applications.mobilenet_v2 import preprocess_input\n",
        "\n",
        "img = img.resize((224, 224))\n",
        "img_array = np.array(img)\n",
        "img_array = np.expand_dims(img_array, axis=0)\n",
        "img_array = preprocess_input(img_array)"
      ],
      "metadata": {
        "id": "jFJWYOoiZ3p8"
      },
      "execution_count": 59,
      "outputs": []
    },
    {
      "cell_type": "code",
      "source": [
        "predictions = model.predict(img_array)\n",
        "\n",
        "print(\"Prediction: \", predictions)\n",
        "class_labels = ['No Human', 'Human']\n",
        "predicted_class = class_labels[np.argmax(predictions)]\n",
        "\n",
        "print(f\"The model predicts: {predicted_class}\")"
      ],
      "metadata": {
        "colab": {
          "base_uri": "https://localhost:8080/"
        },
        "id": "VzP7-4sFaAJz",
        "outputId": "406cbc3c-9cf0-4d3f-d352-cc3b48f873cb"
      },
      "execution_count": 60,
      "outputs": [
        {
          "output_type": "stream",
          "name": "stdout",
          "text": [
            "\u001b[1m1/1\u001b[0m \u001b[32m━━━━━━━━━━━━━━━━━━━━\u001b[0m\u001b[37m\u001b[0m \u001b[1m0s\u001b[0m 95ms/step\n",
            "Prediction:  [[5.1403166e-09 1.0000000e+00]]\n",
            "The model predicts: Human\n"
          ]
        }
      ]
    },
    {
      "cell_type": "code",
      "source": [
        "import tensorflow as tf\n",
        "\n",
        "converter = tf.lite.TFLiteConverter.from_keras_model(model)\n",
        "tflite_model = converter.convert()"
      ],
      "metadata": {
        "colab": {
          "base_uri": "https://localhost:8080/"
        },
        "id": "A-ZKh0Hnegp5",
        "outputId": "2285bb7b-4f00-4211-9710-f547f3f0d17d"
      },
      "execution_count": 62,
      "outputs": [
        {
          "output_type": "stream",
          "name": "stdout",
          "text": [
            "Saved artifact at '/tmp/tmpavt_6rfd'. The following endpoints are available:\n",
            "\n",
            "* Endpoint 'serve'\n",
            "  args_0 (POSITIONAL_ONLY): TensorSpec(shape=(None, 224, 224, 3), dtype=tf.float32, name='keras_tensor_331')\n",
            "Output Type:\n",
            "  TensorSpec(shape=(None, 2), dtype=tf.float32, name=None)\n",
            "Captures:\n",
            "  134771346160720: TensorSpec(shape=(), dtype=tf.resource, name=None)\n",
            "  134771342525840: TensorSpec(shape=(), dtype=tf.resource, name=None)\n",
            "  134771342526224: TensorSpec(shape=(), dtype=tf.resource, name=None)\n",
            "  134771342526032: TensorSpec(shape=(), dtype=tf.resource, name=None)\n",
            "  134771342524496: TensorSpec(shape=(), dtype=tf.resource, name=None)\n",
            "  134771342527376: TensorSpec(shape=(), dtype=tf.resource, name=None)\n",
            "  134771342527760: TensorSpec(shape=(), dtype=tf.resource, name=None)\n",
            "  134771342528144: TensorSpec(shape=(), dtype=tf.resource, name=None)\n",
            "  134771342527952: TensorSpec(shape=(), dtype=tf.resource, name=None)\n",
            "  134771342525264: TensorSpec(shape=(), dtype=tf.resource, name=None)\n",
            "  134771342529296: TensorSpec(shape=(), dtype=tf.resource, name=None)\n",
            "  134771342529680: TensorSpec(shape=(), dtype=tf.resource, name=None)\n",
            "  134771342530064: TensorSpec(shape=(), dtype=tf.resource, name=None)\n",
            "  134771342529872: TensorSpec(shape=(), dtype=tf.resource, name=None)\n",
            "  134771342525456: TensorSpec(shape=(), dtype=tf.resource, name=None)\n",
            "  134771342531216: TensorSpec(shape=(), dtype=tf.resource, name=None)\n",
            "  134771342531600: TensorSpec(shape=(), dtype=tf.resource, name=None)\n",
            "  134771342531984: TensorSpec(shape=(), dtype=tf.resource, name=None)\n",
            "  134771342531792: TensorSpec(shape=(), dtype=tf.resource, name=None)\n",
            "  134771342526992: TensorSpec(shape=(), dtype=tf.resource, name=None)\n",
            "  134771342533136: TensorSpec(shape=(), dtype=tf.resource, name=None)\n",
            "  134771342533520: TensorSpec(shape=(), dtype=tf.resource, name=None)\n",
            "  134771342533904: TensorSpec(shape=(), dtype=tf.resource, name=None)\n",
            "  134771342533712: TensorSpec(shape=(), dtype=tf.resource, name=None)\n",
            "  134771342528912: TensorSpec(shape=(), dtype=tf.resource, name=None)\n",
            "  134771342535056: TensorSpec(shape=(), dtype=tf.resource, name=None)\n",
            "  134771342535440: TensorSpec(shape=(), dtype=tf.resource, name=None)\n",
            "  134771342535824: TensorSpec(shape=(), dtype=tf.resource, name=None)\n",
            "  134771342535632: TensorSpec(shape=(), dtype=tf.resource, name=None)\n",
            "  134771342530832: TensorSpec(shape=(), dtype=tf.resource, name=None)\n",
            "  134771342536976: TensorSpec(shape=(), dtype=tf.resource, name=None)\n",
            "  134771342537360: TensorSpec(shape=(), dtype=tf.resource, name=None)\n",
            "  134771342537744: TensorSpec(shape=(), dtype=tf.resource, name=None)\n",
            "  134771342537552: TensorSpec(shape=(), dtype=tf.resource, name=None)\n",
            "  134771342532752: TensorSpec(shape=(), dtype=tf.resource, name=None)\n",
            "  134771342538896: TensorSpec(shape=(), dtype=tf.resource, name=None)\n",
            "  134771342539280: TensorSpec(shape=(), dtype=tf.resource, name=None)\n",
            "  134771342539664: TensorSpec(shape=(), dtype=tf.resource, name=None)\n",
            "  134771342539472: TensorSpec(shape=(), dtype=tf.resource, name=None)\n",
            "  134771342534672: TensorSpec(shape=(), dtype=tf.resource, name=None)\n",
            "  134771342536592: TensorSpec(shape=(), dtype=tf.resource, name=None)\n",
            "  134771340837328: TensorSpec(shape=(), dtype=tf.resource, name=None)\n",
            "  134771340837904: TensorSpec(shape=(), dtype=tf.resource, name=None)\n",
            "  134771342538512: TensorSpec(shape=(), dtype=tf.resource, name=None)\n",
            "  134771342538128: TensorSpec(shape=(), dtype=tf.resource, name=None)\n",
            "  134771340838864: TensorSpec(shape=(), dtype=tf.resource, name=None)\n",
            "  134771340839248: TensorSpec(shape=(), dtype=tf.resource, name=None)\n",
            "  134771340839632: TensorSpec(shape=(), dtype=tf.resource, name=None)\n",
            "  134771340839440: TensorSpec(shape=(), dtype=tf.resource, name=None)\n",
            "  134771340838096: TensorSpec(shape=(), dtype=tf.resource, name=None)\n",
            "  134771340840784: TensorSpec(shape=(), dtype=tf.resource, name=None)\n",
            "  134771340841168: TensorSpec(shape=(), dtype=tf.resource, name=None)\n",
            "  134771340841552: TensorSpec(shape=(), dtype=tf.resource, name=None)\n",
            "  134771340841360: TensorSpec(shape=(), dtype=tf.resource, name=None)\n",
            "  134771340837136: TensorSpec(shape=(), dtype=tf.resource, name=None)\n",
            "  134771340842704: TensorSpec(shape=(), dtype=tf.resource, name=None)\n",
            "  134771340843088: TensorSpec(shape=(), dtype=tf.resource, name=None)\n",
            "  134771340843472: TensorSpec(shape=(), dtype=tf.resource, name=None)\n",
            "  134771340843280: TensorSpec(shape=(), dtype=tf.resource, name=None)\n",
            "  134771340838480: TensorSpec(shape=(), dtype=tf.resource, name=None)\n",
            "  134771340844624: TensorSpec(shape=(), dtype=tf.resource, name=None)\n",
            "  134771340845008: TensorSpec(shape=(), dtype=tf.resource, name=None)\n",
            "  134771340845392: TensorSpec(shape=(), dtype=tf.resource, name=None)\n",
            "  134771340845200: TensorSpec(shape=(), dtype=tf.resource, name=None)\n",
            "  134771340840400: TensorSpec(shape=(), dtype=tf.resource, name=None)\n",
            "  134771340846544: TensorSpec(shape=(), dtype=tf.resource, name=None)\n",
            "  134771340846928: TensorSpec(shape=(), dtype=tf.resource, name=None)\n",
            "  134771340847312: TensorSpec(shape=(), dtype=tf.resource, name=None)\n",
            "  134771340847120: TensorSpec(shape=(), dtype=tf.resource, name=None)\n",
            "  134771340842320: TensorSpec(shape=(), dtype=tf.resource, name=None)\n",
            "  134771340848464: TensorSpec(shape=(), dtype=tf.resource, name=None)\n",
            "  134771340848848: TensorSpec(shape=(), dtype=tf.resource, name=None)\n",
            "  134771340849232: TensorSpec(shape=(), dtype=tf.resource, name=None)\n",
            "  134771340849040: TensorSpec(shape=(), dtype=tf.resource, name=None)\n",
            "  134771340844240: TensorSpec(shape=(), dtype=tf.resource, name=None)\n",
            "  134771340850384: TensorSpec(shape=(), dtype=tf.resource, name=None)\n",
            "  134771340850768: TensorSpec(shape=(), dtype=tf.resource, name=None)\n",
            "  134771340851152: TensorSpec(shape=(), dtype=tf.resource, name=None)\n",
            "  134771340850960: TensorSpec(shape=(), dtype=tf.resource, name=None)\n",
            "  134771340846160: TensorSpec(shape=(), dtype=tf.resource, name=None)\n",
            "  134771340852304: TensorSpec(shape=(), dtype=tf.resource, name=None)\n",
            "  134771340851920: TensorSpec(shape=(), dtype=tf.resource, name=None)\n",
            "  134771340851536: TensorSpec(shape=(), dtype=tf.resource, name=None)\n",
            "  134771340852880: TensorSpec(shape=(), dtype=tf.resource, name=None)\n",
            "  134771340848080: TensorSpec(shape=(), dtype=tf.resource, name=None)\n",
            "  134771340850000: TensorSpec(shape=(), dtype=tf.resource, name=None)\n",
            "  134771341231504: TensorSpec(shape=(), dtype=tf.resource, name=None)\n",
            "  134771341230544: TensorSpec(shape=(), dtype=tf.resource, name=None)\n",
            "  134771341231312: TensorSpec(shape=(), dtype=tf.resource, name=None)\n",
            "  134771341230352: TensorSpec(shape=(), dtype=tf.resource, name=None)\n",
            "  134771341233040: TensorSpec(shape=(), dtype=tf.resource, name=None)\n",
            "  134771341233424: TensorSpec(shape=(), dtype=tf.resource, name=None)\n",
            "  134771341233808: TensorSpec(shape=(), dtype=tf.resource, name=None)\n",
            "  134771341233616: TensorSpec(shape=(), dtype=tf.resource, name=None)\n",
            "  134771341230736: TensorSpec(shape=(), dtype=tf.resource, name=None)\n",
            "  134771341234960: TensorSpec(shape=(), dtype=tf.resource, name=None)\n",
            "  134771341235344: TensorSpec(shape=(), dtype=tf.resource, name=None)\n",
            "  134771341235728: TensorSpec(shape=(), dtype=tf.resource, name=None)\n",
            "  134771341235536: TensorSpec(shape=(), dtype=tf.resource, name=None)\n",
            "  134771341231888: TensorSpec(shape=(), dtype=tf.resource, name=None)\n",
            "  134771341236880: TensorSpec(shape=(), dtype=tf.resource, name=None)\n",
            "  134771341237264: TensorSpec(shape=(), dtype=tf.resource, name=None)\n",
            "  134771341237648: TensorSpec(shape=(), dtype=tf.resource, name=None)\n",
            "  134771341237456: TensorSpec(shape=(), dtype=tf.resource, name=None)\n",
            "  134771341232656: TensorSpec(shape=(), dtype=tf.resource, name=None)\n",
            "  134771341238800: TensorSpec(shape=(), dtype=tf.resource, name=None)\n",
            "  134771341239184: TensorSpec(shape=(), dtype=tf.resource, name=None)\n",
            "  134771341239568: TensorSpec(shape=(), dtype=tf.resource, name=None)\n",
            "  134771341239376: TensorSpec(shape=(), dtype=tf.resource, name=None)\n",
            "  134771341234576: TensorSpec(shape=(), dtype=tf.resource, name=None)\n",
            "  134771341240720: TensorSpec(shape=(), dtype=tf.resource, name=None)\n",
            "  134771341241104: TensorSpec(shape=(), dtype=tf.resource, name=None)\n",
            "  134771341241488: TensorSpec(shape=(), dtype=tf.resource, name=None)\n",
            "  134771341241296: TensorSpec(shape=(), dtype=tf.resource, name=None)\n",
            "  134771341236496: TensorSpec(shape=(), dtype=tf.resource, name=None)\n",
            "  134771341242640: TensorSpec(shape=(), dtype=tf.resource, name=None)\n",
            "  134771341243024: TensorSpec(shape=(), dtype=tf.resource, name=None)\n",
            "  134771341243408: TensorSpec(shape=(), dtype=tf.resource, name=None)\n",
            "  134771341243216: TensorSpec(shape=(), dtype=tf.resource, name=None)\n",
            "  134771341238416: TensorSpec(shape=(), dtype=tf.resource, name=None)\n",
            "  134771341244560: TensorSpec(shape=(), dtype=tf.resource, name=None)\n",
            "  134771341244944: TensorSpec(shape=(), dtype=tf.resource, name=None)\n",
            "  134771341245328: TensorSpec(shape=(), dtype=tf.resource, name=None)\n",
            "  134771341245136: TensorSpec(shape=(), dtype=tf.resource, name=None)\n",
            "  134771341240336: TensorSpec(shape=(), dtype=tf.resource, name=None)\n",
            "  134771341242256: TensorSpec(shape=(), dtype=tf.resource, name=None)\n",
            "  134771339526608: TensorSpec(shape=(), dtype=tf.resource, name=None)\n",
            "  134771339527184: TensorSpec(shape=(), dtype=tf.resource, name=None)\n",
            "  134771341244176: TensorSpec(shape=(), dtype=tf.resource, name=None)\n",
            "  134771341243792: TensorSpec(shape=(), dtype=tf.resource, name=None)\n",
            "  134771339528144: TensorSpec(shape=(), dtype=tf.resource, name=None)\n",
            "  134771339528528: TensorSpec(shape=(), dtype=tf.resource, name=None)\n",
            "  134771339528912: TensorSpec(shape=(), dtype=tf.resource, name=None)\n",
            "  134771339528720: TensorSpec(shape=(), dtype=tf.resource, name=None)\n",
            "  134771339527376: TensorSpec(shape=(), dtype=tf.resource, name=None)\n",
            "  134771339530064: TensorSpec(shape=(), dtype=tf.resource, name=None)\n",
            "  134771339530448: TensorSpec(shape=(), dtype=tf.resource, name=None)\n",
            "  134771339530832: TensorSpec(shape=(), dtype=tf.resource, name=None)\n",
            "  134771339530640: TensorSpec(shape=(), dtype=tf.resource, name=None)\n",
            "  134771339526416: TensorSpec(shape=(), dtype=tf.resource, name=None)\n",
            "  134771339531984: TensorSpec(shape=(), dtype=tf.resource, name=None)\n",
            "  134771339532368: TensorSpec(shape=(), dtype=tf.resource, name=None)\n",
            "  134771339532752: TensorSpec(shape=(), dtype=tf.resource, name=None)\n",
            "  134771339532560: TensorSpec(shape=(), dtype=tf.resource, name=None)\n",
            "  134771339527760: TensorSpec(shape=(), dtype=tf.resource, name=None)\n",
            "  134771339533904: TensorSpec(shape=(), dtype=tf.resource, name=None)\n",
            "  134771339534288: TensorSpec(shape=(), dtype=tf.resource, name=None)\n",
            "  134771339534672: TensorSpec(shape=(), dtype=tf.resource, name=None)\n",
            "  134771339534480: TensorSpec(shape=(), dtype=tf.resource, name=None)\n",
            "  134771339529680: TensorSpec(shape=(), dtype=tf.resource, name=None)\n",
            "  134771339535824: TensorSpec(shape=(), dtype=tf.resource, name=None)\n",
            "  134771339536208: TensorSpec(shape=(), dtype=tf.resource, name=None)\n",
            "  134771339536592: TensorSpec(shape=(), dtype=tf.resource, name=None)\n",
            "  134771339536400: TensorSpec(shape=(), dtype=tf.resource, name=None)\n",
            "  134771339531600: TensorSpec(shape=(), dtype=tf.resource, name=None)\n",
            "  134771339537744: TensorSpec(shape=(), dtype=tf.resource, name=None)\n",
            "  134771339538128: TensorSpec(shape=(), dtype=tf.resource, name=None)\n",
            "  134771339538512: TensorSpec(shape=(), dtype=tf.resource, name=None)\n",
            "  134771339538320: TensorSpec(shape=(), dtype=tf.resource, name=None)\n",
            "  134771339533520: TensorSpec(shape=(), dtype=tf.resource, name=None)\n",
            "  134771339539664: TensorSpec(shape=(), dtype=tf.resource, name=None)\n",
            "  134771339540048: TensorSpec(shape=(), dtype=tf.resource, name=None)\n",
            "  134771339540432: TensorSpec(shape=(), dtype=tf.resource, name=None)\n",
            "  134771339540240: TensorSpec(shape=(), dtype=tf.resource, name=None)\n",
            "  134771339535440: TensorSpec(shape=(), dtype=tf.resource, name=None)\n",
            "  134771339541584: TensorSpec(shape=(), dtype=tf.resource, name=None)\n",
            "  134771339541200: TensorSpec(shape=(), dtype=tf.resource, name=None)\n",
            "  134771339540816: TensorSpec(shape=(), dtype=tf.resource, name=None)\n",
            "  134771339542160: TensorSpec(shape=(), dtype=tf.resource, name=None)\n",
            "  134771339537360: TensorSpec(shape=(), dtype=tf.resource, name=None)\n",
            "  134771339539280: TensorSpec(shape=(), dtype=tf.resource, name=None)\n",
            "  134771339904400: TensorSpec(shape=(), dtype=tf.resource, name=None)\n",
            "  134771339904784: TensorSpec(shape=(), dtype=tf.resource, name=None)\n",
            "  134771339904592: TensorSpec(shape=(), dtype=tf.resource, name=None)\n",
            "  134771339903248: TensorSpec(shape=(), dtype=tf.resource, name=None)\n",
            "  134771339905936: TensorSpec(shape=(), dtype=tf.resource, name=None)\n",
            "  134771339906320: TensorSpec(shape=(), dtype=tf.resource, name=None)\n",
            "  134771339906704: TensorSpec(shape=(), dtype=tf.resource, name=None)\n",
            "  134771339906512: TensorSpec(shape=(), dtype=tf.resource, name=None)\n",
            "  134771339903056: TensorSpec(shape=(), dtype=tf.resource, name=None)\n",
            "  134771339907856: TensorSpec(shape=(), dtype=tf.resource, name=None)\n",
            "  134771339908240: TensorSpec(shape=(), dtype=tf.resource, name=None)\n",
            "  134771339908624: TensorSpec(shape=(), dtype=tf.resource, name=None)\n",
            "  134771339908432: TensorSpec(shape=(), dtype=tf.resource, name=None)\n",
            "  134771339904016: TensorSpec(shape=(), dtype=tf.resource, name=None)\n",
            "  134771339909776: TensorSpec(shape=(), dtype=tf.resource, name=None)\n",
            "  134771339910160: TensorSpec(shape=(), dtype=tf.resource, name=None)\n",
            "  134771339910544: TensorSpec(shape=(), dtype=tf.resource, name=None)\n",
            "  134771339910352: TensorSpec(shape=(), dtype=tf.resource, name=None)\n",
            "  134771339905552: TensorSpec(shape=(), dtype=tf.resource, name=None)\n",
            "  134771339911696: TensorSpec(shape=(), dtype=tf.resource, name=None)\n",
            "  134771339912080: TensorSpec(shape=(), dtype=tf.resource, name=None)\n",
            "  134771339912464: TensorSpec(shape=(), dtype=tf.resource, name=None)\n",
            "  134771339912272: TensorSpec(shape=(), dtype=tf.resource, name=None)\n",
            "  134771339907472: TensorSpec(shape=(), dtype=tf.resource, name=None)\n",
            "  134771339913616: TensorSpec(shape=(), dtype=tf.resource, name=None)\n",
            "  134771339914000: TensorSpec(shape=(), dtype=tf.resource, name=None)\n",
            "  134771339914384: TensorSpec(shape=(), dtype=tf.resource, name=None)\n",
            "  134771339914192: TensorSpec(shape=(), dtype=tf.resource, name=None)\n",
            "  134771339909392: TensorSpec(shape=(), dtype=tf.resource, name=None)\n",
            "  134771339915536: TensorSpec(shape=(), dtype=tf.resource, name=None)\n",
            "  134771339915920: TensorSpec(shape=(), dtype=tf.resource, name=None)\n",
            "  134771339916304: TensorSpec(shape=(), dtype=tf.resource, name=None)\n",
            "  134771339916112: TensorSpec(shape=(), dtype=tf.resource, name=None)\n",
            "  134771339911312: TensorSpec(shape=(), dtype=tf.resource, name=None)\n",
            "  134771339917456: TensorSpec(shape=(), dtype=tf.resource, name=None)\n",
            "  134771339917840: TensorSpec(shape=(), dtype=tf.resource, name=None)\n",
            "  134771339918224: TensorSpec(shape=(), dtype=tf.resource, name=None)\n",
            "  134771339918032: TensorSpec(shape=(), dtype=tf.resource, name=None)\n",
            "  134771339913232: TensorSpec(shape=(), dtype=tf.resource, name=None)\n",
            "  134771339915152: TensorSpec(shape=(), dtype=tf.resource, name=None)\n",
            "  134771340247504: TensorSpec(shape=(), dtype=tf.resource, name=None)\n",
            "  134771340248080: TensorSpec(shape=(), dtype=tf.resource, name=None)\n",
            "  134771339917072: TensorSpec(shape=(), dtype=tf.resource, name=None)\n",
            "  134771339916688: TensorSpec(shape=(), dtype=tf.resource, name=None)\n",
            "  134771340249040: TensorSpec(shape=(), dtype=tf.resource, name=None)\n",
            "  134771340249424: TensorSpec(shape=(), dtype=tf.resource, name=None)\n",
            "  134771340249808: TensorSpec(shape=(), dtype=tf.resource, name=None)\n",
            "  134771340249616: TensorSpec(shape=(), dtype=tf.resource, name=None)\n",
            "  134771340248272: TensorSpec(shape=(), dtype=tf.resource, name=None)\n",
            "  134771340250960: TensorSpec(shape=(), dtype=tf.resource, name=None)\n",
            "  134771340251344: TensorSpec(shape=(), dtype=tf.resource, name=None)\n",
            "  134771340251728: TensorSpec(shape=(), dtype=tf.resource, name=None)\n",
            "  134771340251536: TensorSpec(shape=(), dtype=tf.resource, name=None)\n",
            "  134771340247312: TensorSpec(shape=(), dtype=tf.resource, name=None)\n",
            "  134771340252880: TensorSpec(shape=(), dtype=tf.resource, name=None)\n",
            "  134771340253264: TensorSpec(shape=(), dtype=tf.resource, name=None)\n",
            "  134771340253648: TensorSpec(shape=(), dtype=tf.resource, name=None)\n",
            "  134771340253456: TensorSpec(shape=(), dtype=tf.resource, name=None)\n",
            "  134771340248656: TensorSpec(shape=(), dtype=tf.resource, name=None)\n",
            "  134771340254800: TensorSpec(shape=(), dtype=tf.resource, name=None)\n",
            "  134771340255184: TensorSpec(shape=(), dtype=tf.resource, name=None)\n",
            "  134771340255568: TensorSpec(shape=(), dtype=tf.resource, name=None)\n",
            "  134771340255376: TensorSpec(shape=(), dtype=tf.resource, name=None)\n",
            "  134771340250576: TensorSpec(shape=(), dtype=tf.resource, name=None)\n",
            "  134771340256720: TensorSpec(shape=(), dtype=tf.resource, name=None)\n",
            "  134771340257104: TensorSpec(shape=(), dtype=tf.resource, name=None)\n",
            "  134771340257488: TensorSpec(shape=(), dtype=tf.resource, name=None)\n",
            "  134771340257296: TensorSpec(shape=(), dtype=tf.resource, name=None)\n",
            "  134771340252496: TensorSpec(shape=(), dtype=tf.resource, name=None)\n",
            "  134771340258640: TensorSpec(shape=(), dtype=tf.resource, name=None)\n",
            "  134771340259024: TensorSpec(shape=(), dtype=tf.resource, name=None)\n",
            "  134771340259408: TensorSpec(shape=(), dtype=tf.resource, name=None)\n",
            "  134771340259216: TensorSpec(shape=(), dtype=tf.resource, name=None)\n",
            "  134771340254416: TensorSpec(shape=(), dtype=tf.resource, name=None)\n",
            "  134771340260560: TensorSpec(shape=(), dtype=tf.resource, name=None)\n",
            "  134771340260944: TensorSpec(shape=(), dtype=tf.resource, name=None)\n",
            "  134771340261328: TensorSpec(shape=(), dtype=tf.resource, name=None)\n",
            "  134771340261136: TensorSpec(shape=(), dtype=tf.resource, name=None)\n",
            "  134771340256336: TensorSpec(shape=(), dtype=tf.resource, name=None)\n",
            "  134771340262480: TensorSpec(shape=(), dtype=tf.resource, name=None)\n",
            "  134771340262096: TensorSpec(shape=(), dtype=tf.resource, name=None)\n",
            "  134771340261712: TensorSpec(shape=(), dtype=tf.resource, name=None)\n",
            "  134771340263056: TensorSpec(shape=(), dtype=tf.resource, name=None)\n",
            "  134771340258256: TensorSpec(shape=(), dtype=tf.resource, name=None)\n",
            "  134771340260176: TensorSpec(shape=(), dtype=tf.resource, name=None)\n",
            "  134771338593680: TensorSpec(shape=(), dtype=tf.resource, name=None)\n",
            "  134771338592720: TensorSpec(shape=(), dtype=tf.resource, name=None)\n",
            "  134771338593488: TensorSpec(shape=(), dtype=tf.resource, name=None)\n",
            "  134771338592528: TensorSpec(shape=(), dtype=tf.resource, name=None)\n",
            "  134771338595408: TensorSpec(shape=(), dtype=tf.resource, name=None)\n",
            "  134771338595984: TensorSpec(shape=(), dtype=tf.resource, name=None)\n",
            "  134771338594064: TensorSpec(shape=(), dtype=tf.resource, name=None)\n",
            "  134771338595216: TensorSpec(shape=(), dtype=tf.resource, name=None)\n",
            "  134771338597136: TensorSpec(shape=(), dtype=tf.resource, name=None)\n",
            "  134771338597712: TensorSpec(shape=(), dtype=tf.resource, name=None)\n",
            "  134771338596752: TensorSpec(shape=(), dtype=tf.resource, name=None)\n",
            "  134771338598480: TensorSpec(shape=(), dtype=tf.resource, name=None)\n"
          ]
        }
      ]
    },
    {
      "cell_type": "code",
      "source": [
        "with open('human_detection_model.tflite', 'wb') as f:\n",
        "    f.write(tflite_model)"
      ],
      "metadata": {
        "id": "S6R5fgdjeqpo"
      },
      "execution_count": 63,
      "outputs": []
    }
  ]
}